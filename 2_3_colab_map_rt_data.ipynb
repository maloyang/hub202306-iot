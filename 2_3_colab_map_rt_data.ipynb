{
  "cells": [
    {
      "cell_type": "markdown",
      "id": "46f8581f-b1d2-45f9-aeb9-4c46886e6f30",
      "metadata": {
        "id": "46f8581f-b1d2-45f9-aeb9-4c46886e6f30"
      },
      "source": [
        "# 電錶資訊: 地圖呈現的方式"
      ]
    },
    {
      "cell_type": "code",
      "source": [
        "!pip install folium geocoder"
      ],
      "metadata": {
        "id": "ZlT67tW3CQ-U",
        "outputId": "6ea293a5-23b4-4e7f-ae95-61c6518297ee",
        "colab": {
          "base_uri": "https://localhost:8080/"
        }
      },
      "id": "ZlT67tW3CQ-U",
      "execution_count": 1,
      "outputs": [
        {
          "output_type": "stream",
          "name": "stdout",
          "text": [
            "Looking in indexes: https://pypi.org/simple, https://us-python.pkg.dev/colab-wheels/public/simple/\n",
            "Requirement already satisfied: folium in /usr/local/lib/python3.10/dist-packages (0.14.0)\n",
            "Collecting geocoder\n",
            "  Downloading geocoder-1.38.1-py2.py3-none-any.whl (98 kB)\n",
            "\u001b[2K     \u001b[90m━━━━━━━━━━━━━━━━━━━━━━━━━━━━━━━━━━━━━━━━\u001b[0m \u001b[32m98.6/98.6 kB\u001b[0m \u001b[31m9.1 MB/s\u001b[0m eta \u001b[36m0:00:00\u001b[0m\n",
            "\u001b[?25hRequirement already satisfied: branca>=0.6.0 in /usr/local/lib/python3.10/dist-packages (from folium) (0.6.0)\n",
            "Requirement already satisfied: jinja2>=2.9 in /usr/local/lib/python3.10/dist-packages (from folium) (3.1.2)\n",
            "Requirement already satisfied: numpy in /usr/local/lib/python3.10/dist-packages (from folium) (1.22.4)\n",
            "Requirement already satisfied: requests in /usr/local/lib/python3.10/dist-packages (from folium) (2.27.1)\n",
            "Requirement already satisfied: click in /usr/local/lib/python3.10/dist-packages (from geocoder) (8.1.3)\n",
            "Requirement already satisfied: future in /usr/local/lib/python3.10/dist-packages (from geocoder) (0.18.3)\n",
            "Collecting ratelim (from geocoder)\n",
            "  Downloading ratelim-0.1.6-py2.py3-none-any.whl (4.0 kB)\n",
            "Requirement already satisfied: six in /usr/local/lib/python3.10/dist-packages (from geocoder) (1.16.0)\n",
            "Requirement already satisfied: MarkupSafe>=2.0 in /usr/local/lib/python3.10/dist-packages (from jinja2>=2.9->folium) (2.1.3)\n",
            "Requirement already satisfied: decorator in /usr/local/lib/python3.10/dist-packages (from ratelim->geocoder) (4.4.2)\n",
            "Requirement already satisfied: urllib3<1.27,>=1.21.1 in /usr/local/lib/python3.10/dist-packages (from requests->folium) (1.26.16)\n",
            "Requirement already satisfied: certifi>=2017.4.17 in /usr/local/lib/python3.10/dist-packages (from requests->folium) (2023.5.7)\n",
            "Requirement already satisfied: charset-normalizer~=2.0.0 in /usr/local/lib/python3.10/dist-packages (from requests->folium) (2.0.12)\n",
            "Requirement already satisfied: idna<4,>=2.5 in /usr/local/lib/python3.10/dist-packages (from requests->folium) (3.4)\n",
            "Installing collected packages: ratelim, geocoder\n",
            "Successfully installed geocoder-1.38.1 ratelim-0.1.6\n"
          ]
        }
      ]
    },
    {
      "cell_type": "code",
      "execution_count": 2,
      "id": "f7fcb4eb-3549-497a-95a3-2cf949b7a3c6",
      "metadata": {
        "id": "f7fcb4eb-3549-497a-95a3-2cf949b7a3c6"
      },
      "outputs": [],
      "source": [
        "%matplotlib inline\n",
        "\n",
        "import matplotlib.pyplot as plt\n",
        "import numpy as np\n",
        "import pandas as pd\n",
        "import os\n",
        "import folium\n",
        "import geocoder"
      ]
    },
    {
      "cell_type": "markdown",
      "id": "2d7ca553-e852-479f-8091-0b96a3420cb1",
      "metadata": {
        "id": "2d7ca553-e852-479f-8091-0b96a3420cb1"
      },
      "source": [
        "### 一般會收集多個電錶資料到資料庫，這邊我們簡化資料到一個json file"
      ]
    },
    {
      "cell_type": "code",
      "source": [
        "!wget https://raw.githubusercontent.com/maloyang/hub202306-iot/main/rt_data/pm_rt_data.json"
      ],
      "metadata": {
        "id": "N__c2GiXCbHJ",
        "outputId": "3a6c2839-0dd9-4a5f-da00-eec61b0d252f",
        "colab": {
          "base_uri": "https://localhost:8080/"
        }
      },
      "id": "N__c2GiXCbHJ",
      "execution_count": 3,
      "outputs": [
        {
          "output_type": "stream",
          "name": "stdout",
          "text": [
            "--2023-06-26 14:09:56--  https://raw.githubusercontent.com/maloyang/hub202306-iot/main/rt_data/pm_rt_data.json\n",
            "Resolving raw.githubusercontent.com (raw.githubusercontent.com)... 185.199.108.133, 185.199.109.133, 185.199.110.133, ...\n",
            "Connecting to raw.githubusercontent.com (raw.githubusercontent.com)|185.199.108.133|:443... connected.\n",
            "HTTP request sent, awaiting response... 200 OK\n",
            "Length: 423 [text/plain]\n",
            "Saving to: ‘pm_rt_data.json’\n",
            "\n",
            "\rpm_rt_data.json       0%[                    ]       0  --.-KB/s               \rpm_rt_data.json     100%[===================>]     423  --.-KB/s    in 0s      \n",
            "\n",
            "2023-06-26 14:09:57 (22.4 MB/s) - ‘pm_rt_data.json’ saved [423/423]\n",
            "\n"
          ]
        }
      ]
    },
    {
      "cell_type": "code",
      "execution_count": 4,
      "id": "7687237e-56af-447e-aea5-4b107b9bee82",
      "metadata": {
        "collapsed": true,
        "jupyter": {
          "outputs_hidden": true
        },
        "tags": [],
        "id": "7687237e-56af-447e-aea5-4b107b9bee82",
        "outputId": "e70aae3f-6ed5-46d6-b10e-0153889756c2",
        "colab": {
          "base_uri": "https://localhost:8080/"
        }
      },
      "outputs": [
        {
          "output_type": "execute_result",
          "data": {
            "text/plain": [
              "{'farm1': ['2023/4/30 10:00',\n",
              "  23.657599,\n",
              "  120.219336,\n",
              "  227.967,\n",
              "  224.408,\n",
              "  233.892,\n",
              "  9.909,\n",
              "  9.568,\n",
              "  9.353],\n",
              " 'farm2': ['2023/4/30 10:00',\n",
              "  23.658889,\n",
              "  120.227115,\n",
              "  120.8,\n",
              "  123.6,\n",
              "  122.8,\n",
              "  1.71,\n",
              "  0.169,\n",
              "  1.593],\n",
              " 'farm3': ['2023/4/30 10:00',\n",
              "  23.661136,\n",
              "  120.233179,\n",
              "  137.878,\n",
              "  134.671,\n",
              "  134.844,\n",
              "  1.71,\n",
              "  0.169,\n",
              "  1.593]}"
            ]
          },
          "metadata": {},
          "execution_count": 4
        }
      ],
      "source": [
        "import json\n",
        "ffn = './pm_rt_data.json'\n",
        "with open(ffn) as f:\n",
        "    rt_data = json.load(f)\n",
        "rt_data"
      ]
    },
    {
      "cell_type": "code",
      "execution_count": 5,
      "id": "f4885a32-fc1b-4ca3-bd37-348d2e5d13ff",
      "metadata": {
        "id": "f4885a32-fc1b-4ca3-bd37-348d2e5d13ff"
      },
      "outputs": [],
      "source": [
        "# 使用 geocoder 取得特定住址的 GPS 座標\n",
        "location = geocoder.osm('雲林縣').latlng"
      ]
    },
    {
      "cell_type": "code",
      "execution_count": 6,
      "id": "f0c9b867-5018-49ae-b507-ec16ccb3e4e1",
      "metadata": {
        "id": "f0c9b867-5018-49ae-b507-ec16ccb3e4e1"
      },
      "outputs": [],
      "source": [
        "location = (rt_data['farm2'][1], rt_data['farm2'][2])"
      ]
    },
    {
      "cell_type": "code",
      "execution_count": 7,
      "id": "7e697b12-5854-44c4-8032-3306060b12c3",
      "metadata": {
        "id": "7e697b12-5854-44c4-8032-3306060b12c3",
        "outputId": "8ae31b40-f1d2-45f1-d87b-5c284bcbfb92",
        "colab": {
          "base_uri": "https://localhost:8080/"
        }
      },
      "outputs": [
        {
          "output_type": "stream",
          "name": "stdout",
          "text": [
            "farm1 [23.657599, 120.219336] 6593.7 [farm1] kW = 6593.7\n",
            "farm2 [23.658889, 120.227115] 423.1 [farm2] kW = 423.1\n",
            "farm3 [23.661136, 120.233179] 473.3 [farm3] kW = 473.3\n"
          ]
        }
      ],
      "source": [
        "m = folium.Map(location=location, zoom_start=15)\n",
        "\n",
        "for key in rt_data:\n",
        "    name = key\n",
        "    dtime = rt_data[key][0]\n",
        "    gps = [float(rt_data[key][1]), float(rt_data[key][2])]\n",
        "    kw = round(rt_data[key][3]*rt_data[key][6]+rt_data[key][4]*rt_data[key][7]+rt_data[key][5]*rt_data[key][8], 1)\n",
        "    #info = key\n",
        "    info = '[%s] kW = %s' %(key, kw)\n",
        "    print(key, gps, kw, info)\n",
        "    folium.Marker(gps, tooltip=info,\n",
        "                        icon=folium.Icon(color='green', prefix='fa', icon='fa-bolt')).add_to(m)\n"
      ]
    },
    {
      "cell_type": "code",
      "execution_count": 8,
      "id": "9eb92093-b5b4-4fc8-b15c-126e70d7e770",
      "metadata": {
        "id": "9eb92093-b5b4-4fc8-b15c-126e70d7e770",
        "outputId": "3b61608a-1043-4fe9-91c8-047ed41c44ad",
        "colab": {
          "base_uri": "https://localhost:8080/",
          "height": 763
        }
      },
      "outputs": [
        {
          "output_type": "execute_result",
          "data": {
            "text/plain": [
              "<folium.folium.Map at 0x7fdb45af4880>"
            ],
            "text/html": [
              "<div style=\"width:100%;\"><div style=\"position:relative;width:100%;height:0;padding-bottom:60%;\"><span style=\"color:#565656\">Make this Notebook Trusted to load map: File -> Trust Notebook</span><iframe srcdoc=\"&lt;!DOCTYPE html&gt;\n",
              "&lt;html&gt;\n",
              "&lt;head&gt;\n",
              "    \n",
              "    &lt;meta http-equiv=&quot;content-type&quot; content=&quot;text/html; charset=UTF-8&quot; /&gt;\n",
              "    \n",
              "        &lt;script&gt;\n",
              "            L_NO_TOUCH = false;\n",
              "            L_DISABLE_3D = false;\n",
              "        &lt;/script&gt;\n",
              "    \n",
              "    &lt;style&gt;html, body {width: 100%;height: 100%;margin: 0;padding: 0;}&lt;/style&gt;\n",
              "    &lt;style&gt;#map {position:absolute;top:0;bottom:0;right:0;left:0;}&lt;/style&gt;\n",
              "    &lt;script src=&quot;https://cdn.jsdelivr.net/npm/leaflet@1.9.3/dist/leaflet.js&quot;&gt;&lt;/script&gt;\n",
              "    &lt;script src=&quot;https://code.jquery.com/jquery-1.12.4.min.js&quot;&gt;&lt;/script&gt;\n",
              "    &lt;script src=&quot;https://cdn.jsdelivr.net/npm/bootstrap@5.2.2/dist/js/bootstrap.bundle.min.js&quot;&gt;&lt;/script&gt;\n",
              "    &lt;script src=&quot;https://cdnjs.cloudflare.com/ajax/libs/Leaflet.awesome-markers/2.0.2/leaflet.awesome-markers.js&quot;&gt;&lt;/script&gt;\n",
              "    &lt;link rel=&quot;stylesheet&quot; href=&quot;https://cdn.jsdelivr.net/npm/leaflet@1.9.3/dist/leaflet.css&quot;/&gt;\n",
              "    &lt;link rel=&quot;stylesheet&quot; href=&quot;https://cdn.jsdelivr.net/npm/bootstrap@5.2.2/dist/css/bootstrap.min.css&quot;/&gt;\n",
              "    &lt;link rel=&quot;stylesheet&quot; href=&quot;https://netdna.bootstrapcdn.com/bootstrap/3.0.0/css/bootstrap.min.css&quot;/&gt;\n",
              "    &lt;link rel=&quot;stylesheet&quot; href=&quot;https://cdn.jsdelivr.net/npm/@fortawesome/fontawesome-free@6.2.0/css/all.min.css&quot;/&gt;\n",
              "    &lt;link rel=&quot;stylesheet&quot; href=&quot;https://cdnjs.cloudflare.com/ajax/libs/Leaflet.awesome-markers/2.0.2/leaflet.awesome-markers.css&quot;/&gt;\n",
              "    &lt;link rel=&quot;stylesheet&quot; href=&quot;https://cdn.jsdelivr.net/gh/python-visualization/folium/folium/templates/leaflet.awesome.rotate.min.css&quot;/&gt;\n",
              "    \n",
              "            &lt;meta name=&quot;viewport&quot; content=&quot;width=device-width,\n",
              "                initial-scale=1.0, maximum-scale=1.0, user-scalable=no&quot; /&gt;\n",
              "            &lt;style&gt;\n",
              "                #map_aa549c10b4ebd7d7745684104a2ff9da {\n",
              "                    position: relative;\n",
              "                    width: 100.0%;\n",
              "                    height: 100.0%;\n",
              "                    left: 0.0%;\n",
              "                    top: 0.0%;\n",
              "                }\n",
              "                .leaflet-container { font-size: 1rem; }\n",
              "            &lt;/style&gt;\n",
              "        \n",
              "&lt;/head&gt;\n",
              "&lt;body&gt;\n",
              "    \n",
              "    \n",
              "            &lt;div class=&quot;folium-map&quot; id=&quot;map_aa549c10b4ebd7d7745684104a2ff9da&quot; &gt;&lt;/div&gt;\n",
              "        \n",
              "&lt;/body&gt;\n",
              "&lt;script&gt;\n",
              "    \n",
              "    \n",
              "            var map_aa549c10b4ebd7d7745684104a2ff9da = L.map(\n",
              "                &quot;map_aa549c10b4ebd7d7745684104a2ff9da&quot;,\n",
              "                {\n",
              "                    center: [23.658889, 120.227115],\n",
              "                    crs: L.CRS.EPSG3857,\n",
              "                    zoom: 15,\n",
              "                    zoomControl: true,\n",
              "                    preferCanvas: false,\n",
              "                }\n",
              "            );\n",
              "\n",
              "            \n",
              "\n",
              "        \n",
              "    \n",
              "            var tile_layer_e48c3de2f7e01d95a00e1a7388fceb43 = L.tileLayer(\n",
              "                &quot;https://{s}.tile.openstreetmap.org/{z}/{x}/{y}.png&quot;,\n",
              "                {&quot;attribution&quot;: &quot;Data by \\u0026copy; \\u003ca target=\\&quot;_blank\\&quot; href=\\&quot;http://openstreetmap.org\\&quot;\\u003eOpenStreetMap\\u003c/a\\u003e, under \\u003ca target=\\&quot;_blank\\&quot; href=\\&quot;http://www.openstreetmap.org/copyright\\&quot;\\u003eODbL\\u003c/a\\u003e.&quot;, &quot;detectRetina&quot;: false, &quot;maxNativeZoom&quot;: 18, &quot;maxZoom&quot;: 18, &quot;minZoom&quot;: 0, &quot;noWrap&quot;: false, &quot;opacity&quot;: 1, &quot;subdomains&quot;: &quot;abc&quot;, &quot;tms&quot;: false}\n",
              "            ).addTo(map_aa549c10b4ebd7d7745684104a2ff9da);\n",
              "        \n",
              "    \n",
              "            var marker_5222da2c461fb2f1983168b602685607 = L.marker(\n",
              "                [23.657599, 120.219336],\n",
              "                {}\n",
              "            ).addTo(map_aa549c10b4ebd7d7745684104a2ff9da);\n",
              "        \n",
              "    \n",
              "            var icon_facac156d33927d511f446169ae235ed = L.AwesomeMarkers.icon(\n",
              "                {&quot;extraClasses&quot;: &quot;fa-rotate-0&quot;, &quot;icon&quot;: &quot;fa-bolt&quot;, &quot;iconColor&quot;: &quot;white&quot;, &quot;markerColor&quot;: &quot;green&quot;, &quot;prefix&quot;: &quot;fa&quot;}\n",
              "            );\n",
              "            marker_5222da2c461fb2f1983168b602685607.setIcon(icon_facac156d33927d511f446169ae235ed);\n",
              "        \n",
              "    \n",
              "            marker_5222da2c461fb2f1983168b602685607.bindTooltip(\n",
              "                `&lt;div&gt;\n",
              "                     [farm1] kW = 6593.7\n",
              "                 &lt;/div&gt;`,\n",
              "                {&quot;sticky&quot;: true}\n",
              "            );\n",
              "        \n",
              "    \n",
              "            var marker_8813d866ecda1e0995b30b65a209c9eb = L.marker(\n",
              "                [23.658889, 120.227115],\n",
              "                {}\n",
              "            ).addTo(map_aa549c10b4ebd7d7745684104a2ff9da);\n",
              "        \n",
              "    \n",
              "            var icon_63a63beb4a50467d7dec637913d34efe = L.AwesomeMarkers.icon(\n",
              "                {&quot;extraClasses&quot;: &quot;fa-rotate-0&quot;, &quot;icon&quot;: &quot;fa-bolt&quot;, &quot;iconColor&quot;: &quot;white&quot;, &quot;markerColor&quot;: &quot;green&quot;, &quot;prefix&quot;: &quot;fa&quot;}\n",
              "            );\n",
              "            marker_8813d866ecda1e0995b30b65a209c9eb.setIcon(icon_63a63beb4a50467d7dec637913d34efe);\n",
              "        \n",
              "    \n",
              "            marker_8813d866ecda1e0995b30b65a209c9eb.bindTooltip(\n",
              "                `&lt;div&gt;\n",
              "                     [farm2] kW = 423.1\n",
              "                 &lt;/div&gt;`,\n",
              "                {&quot;sticky&quot;: true}\n",
              "            );\n",
              "        \n",
              "    \n",
              "            var marker_12e0e131d54ff8fe1ffc0df9e9a2954e = L.marker(\n",
              "                [23.661136, 120.233179],\n",
              "                {}\n",
              "            ).addTo(map_aa549c10b4ebd7d7745684104a2ff9da);\n",
              "        \n",
              "    \n",
              "            var icon_ca2ff0eda6aa6721c78232508cce473e = L.AwesomeMarkers.icon(\n",
              "                {&quot;extraClasses&quot;: &quot;fa-rotate-0&quot;, &quot;icon&quot;: &quot;fa-bolt&quot;, &quot;iconColor&quot;: &quot;white&quot;, &quot;markerColor&quot;: &quot;green&quot;, &quot;prefix&quot;: &quot;fa&quot;}\n",
              "            );\n",
              "            marker_12e0e131d54ff8fe1ffc0df9e9a2954e.setIcon(icon_ca2ff0eda6aa6721c78232508cce473e);\n",
              "        \n",
              "    \n",
              "            marker_12e0e131d54ff8fe1ffc0df9e9a2954e.bindTooltip(\n",
              "                `&lt;div&gt;\n",
              "                     [farm3] kW = 473.3\n",
              "                 &lt;/div&gt;`,\n",
              "                {&quot;sticky&quot;: true}\n",
              "            );\n",
              "        \n",
              "&lt;/script&gt;\n",
              "&lt;/html&gt;\" style=\"position:absolute;width:100%;height:100%;left:0;top:0;border:none !important;\" allowfullscreen webkitallowfullscreen mozallowfullscreen></iframe></div></div>"
            ]
          },
          "metadata": {},
          "execution_count": 8
        }
      ],
      "source": [
        "m"
      ]
    },
    {
      "cell_type": "code",
      "execution_count": null,
      "id": "8f7a2737-313d-4d6e-8eb3-41bdaef26ae7",
      "metadata": {
        "id": "8f7a2737-313d-4d6e-8eb3-41bdaef26ae7"
      },
      "outputs": [],
      "source": []
    }
  ],
  "metadata": {
    "kernelspec": {
      "display_name": "Python 3 (ipykernel)",
      "language": "python",
      "name": "python3"
    },
    "language_info": {
      "codemirror_mode": {
        "name": "ipython",
        "version": 3
      },
      "file_extension": ".py",
      "mimetype": "text/x-python",
      "name": "python",
      "nbconvert_exporter": "python",
      "pygments_lexer": "ipython3",
      "version": "3.9.7"
    },
    "colab": {
      "provenance": []
    }
  },
  "nbformat": 4,
  "nbformat_minor": 5
}