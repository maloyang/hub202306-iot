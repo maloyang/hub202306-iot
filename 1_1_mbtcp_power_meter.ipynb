{
 "cells": [
  {
   "cell_type": "markdown",
   "id": "46f8581f-b1d2-45f9-aeb9-4c46886e6f30",
   "metadata": {},
   "source": [
    "# 收集電錶資訊Demo\n",
    "----"
   ]
  },
  {
   "cell_type": "code",
   "execution_count": 4,
   "id": "5f5a292c-0756-43f6-b14d-64dc81bcf36f",
   "metadata": {},
   "outputs": [],
   "source": [
    "import modbus_tk\n",
    "import modbus_tk.defines as cst\n",
    "from modbus_tk import modbus_tcp, hooks\n",
    "from struct import *"
   ]
  },
  {
   "cell_type": "markdown",
   "id": "ee8fac1e-fbf3-4f57-abb9-0246f916f416",
   "metadata": {},
   "source": [
    "- 基本測試"
   ]
  },
  {
   "cell_type": "code",
   "execution_count": 5,
   "id": "18b832ca-5023-49af-8d3b-658034e75371",
   "metadata": {},
   "outputs": [],
   "source": [
    "mb_ip = '209.97.161.199'\n",
    "mb_port = 1502\n",
    "timeout = 1000"
   ]
  },
  {
   "cell_type": "code",
   "execution_count": 6,
   "id": "f693003e-83e9-433a-942a-dede2067bb81",
   "metadata": {},
   "outputs": [
    {
     "name": "stdout",
     "output_type": "stream",
     "text": [
      "read value: (1, 2, 3, 4, 5, 6, 7, 8, 9, 10)\n"
     ]
    },
    {
     "data": {
      "text/plain": [
       "True"
      ]
     },
     "execution_count": 6,
     "metadata": {},
     "output_type": "execute_result"
    }
   ],
   "source": [
    "master = modbus_tcp.TcpMaster(mb_ip, mb_port)\n",
    "master.set_timeout(timeout/1000.0)\n",
    "\n",
    "mbId = 1\n",
    "addr = 0 # power-meter is base 0\n",
    "\n",
    "try:\n",
    "    # FC3\n",
    "    rr = master.execute(mbId, cst.READ_INPUT_REGISTERS, addr, 10)\n",
    "    print('read value:', rr)\n",
    "\n",
    "except Exception as e:\n",
    "    print(\"modbus test Error: \" + str(e))\n",
    "\n",
    "master._do_close()"
   ]
  },
  {
   "cell_type": "markdown",
   "id": "bf1706cf-6485-499b-b64d-328da45178eb",
   "metadata": {},
   "source": [
    "- polling voltage data"
   ]
  },
  {
   "cell_type": "code",
   "execution_count": 7,
   "id": "4af166c8-1e93-4403-9841-da1abd3fc9d2",
   "metadata": {},
   "outputs": [
    {
     "name": "stdout",
     "output_type": "stream",
     "text": [
      "read value: (0, 17244, 0, 17244, 0, 17244, 0, 17244, 0, 17342)\n",
      "value =  (220.0,)\n",
      "value =  (220.0,)\n",
      "value =  (220.0,)\n",
      "value =  (220.0,)\n",
      "value =  (380.0,)\n"
     ]
    },
    {
     "data": {
      "text/plain": [
       "True"
      ]
     },
     "execution_count": 7,
     "metadata": {},
     "output_type": "execute_result"
    }
   ],
   "source": [
    "master = modbus_tcp.TcpMaster(mb_ip, mb_port)\n",
    "master.set_timeout(timeout/1000.0)\n",
    "\n",
    "mbId = 1\n",
    "addr = 0x1000 # power-meter is base 0\n",
    "# notice: meter not support FC6, only FC16\n",
    "\n",
    "try:\n",
    "    # FC3\n",
    "    rr = master.execute(mbId, cst.READ_INPUT_REGISTERS, addr, 10)\n",
    "    print('read value:', rr)\n",
    "\n",
    "    # convert to float:\n",
    "    # IEEE754 ==> (Hi word Hi Bite, Hi word Lo Byte, Lo word Hi Byte, Lo word Lo Byte)\n",
    "    try:\n",
    "        for i in range(len(rr)//2):\n",
    "            hi_byte = rr[2*i+1]\n",
    "            lo_byte = rr[2*i]\n",
    "            value = unpack('>f', pack('>HH', hi_byte, lo_byte))\n",
    "            print('value = ', value)\n",
    "    except Exception as e:\n",
    "        print(e)\n",
    "\n",
    "except Exception as e:\n",
    "    print(\"modbus test Error: \" + str(e))\n",
    "\n",
    "\n",
    "master._do_close()"
   ]
  },
  {
   "cell_type": "markdown",
   "id": "98f64629-6beb-4494-bbd4-79646958b77e",
   "metadata": {},
   "source": [
    "- Modbus/TCP demo to polling power meter"
   ]
  },
  {
   "cell_type": "code",
   "execution_count": 8,
   "id": "c48de37b-d73c-418d-a080-b79ff3be230a",
   "metadata": {},
   "outputs": [
    {
     "name": "stdout",
     "output_type": "stream",
     "text": [
      "read value: (39322, 16673, 13107, 16675, 52429, 16676, 52429, 16884, 52429, 15820)\n",
      "value =  (10.100000381469727,)\n",
      "value =  (10.199999809265137,)\n",
      "value =  (10.300000190734863,)\n",
      "value =  (30.600000381469727,)\n",
      "value =  (0.10000000149011612,)\n"
     ]
    },
    {
     "data": {
      "text/plain": [
       "True"
      ]
     },
     "execution_count": 8,
     "metadata": {},
     "output_type": "execute_result"
    }
   ],
   "source": [
    "master = modbus_tcp.TcpMaster(mb_ip, mb_port)\n",
    "master.set_timeout(timeout/1000.0)\n",
    "\n",
    "mbId = 1\n",
    "addr = 0x101A # power-meter is base 0\n",
    "# notice: meter not support FC6, only FC16\n",
    "\n",
    "try:\n",
    "    # FC3\n",
    "    rr = master.execute(mbId, cst.READ_INPUT_REGISTERS, addr, 10)\n",
    "    print('read value:', rr)\n",
    "\n",
    "    # convert to float:\n",
    "    # IEEE754 ==> (Hi word Hi Bite, Hi word Lo Byte, Lo word Hi Byte, Lo word Lo Byte)\n",
    "    try:\n",
    "        for i in range(len(rr)//2):\n",
    "            hi_byte = rr[2*i+1]\n",
    "            lo_byte = rr[2*i]\n",
    "            value = unpack('>f', pack('>HH', hi_byte, lo_byte))\n",
    "            print('value = ', value)\n",
    "    except Exception as e:\n",
    "        print(e)\n",
    "\n",
    "except Exception as e:\n",
    "    print(\"modbus test Error: \" + str(e))\n",
    "\n",
    "\n",
    "master._do_close()"
   ]
  },
  {
   "cell_type": "code",
   "execution_count": null,
   "id": "55b58fa8-9d62-48d4-8d31-695e14fee6c5",
   "metadata": {},
   "outputs": [],
   "source": []
  }
 ],
 "metadata": {
  "kernelspec": {
   "display_name": "Python 3 (ipykernel)",
   "language": "python",
   "name": "python3"
  },
  "language_info": {
   "codemirror_mode": {
    "name": "ipython",
    "version": 3
   },
   "file_extension": ".py",
   "mimetype": "text/x-python",
   "name": "python",
   "nbconvert_exporter": "python",
   "pygments_lexer": "ipython3",
   "version": "3.9.7"
  }
 },
 "nbformat": 4,
 "nbformat_minor": 5
}
