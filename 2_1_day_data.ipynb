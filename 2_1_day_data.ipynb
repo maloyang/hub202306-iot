{
 "cells": [
  {
   "cell_type": "markdown",
   "id": "46f8581f-b1d2-45f9-aeb9-4c46886e6f30",
   "metadata": {},
   "source": [
    "# 電表的電力資訊"
   ]
  },
  {
   "cell_type": "markdown",
   "id": "3a8f8d5a-aa75-4091-b134-ccc48093a978",
   "metadata": {},
   "source": [
    "----\n",
    "## 1> import modules\n"
   ]
  },
  {
   "cell_type": "code",
   "execution_count": 1,
   "id": "f7fcb4eb-3549-497a-95a3-2cf949b7a3c6",
   "metadata": {},
   "outputs": [],
   "source": [
    "%matplotlib inline\n",
    "\n",
    "import matplotlib.pyplot as plt\n",
    "import numpy as np\n",
    "import pandas as pd"
   ]
  },
  {
   "cell_type": "markdown",
   "id": "a0fa3d93-3fc2-40af-8400-82518701e5b3",
   "metadata": {},
   "source": [
    "## 2> Data Reading"
   ]
  },
  {
   "cell_type": "code",
   "execution_count": 2,
   "id": "e6f8c2f4-5ae0-44fb-bec4-553c25ef4eb2",
   "metadata": {},
   "outputs": [],
   "source": [
    "base_path = './pm_data/'"
   ]
  },
  {
   "cell_type": "code",
   "execution_count": 3,
   "id": "e59fb59e-0121-4413-baba-560c04b97dbf",
   "metadata": {},
   "outputs": [
    {
     "data": {
      "text/html": [
       "<div>\n",
       "<style scoped>\n",
       "    .dataframe tbody tr th:only-of-type {\n",
       "        vertical-align: middle;\n",
       "    }\n",
       "\n",
       "    .dataframe tbody tr th {\n",
       "        vertical-align: top;\n",
       "    }\n",
       "\n",
       "    .dataframe thead th {\n",
       "        text-align: right;\n",
       "    }\n",
       "</style>\n",
       "<table border=\"1\" class=\"dataframe\">\n",
       "  <thead>\n",
       "    <tr style=\"text-align: right;\">\n",
       "      <th></th>\n",
       "      <th>dtime</th>\n",
       "      <th>total_e</th>\n",
       "      <th>v1</th>\n",
       "      <th>v2</th>\n",
       "      <th>v3</th>\n",
       "      <th>a1</th>\n",
       "      <th>a2</th>\n",
       "      <th>a3</th>\n",
       "    </tr>\n",
       "  </thead>\n",
       "  <tbody>\n",
       "    <tr>\n",
       "      <th>0</th>\n",
       "      <td>2023-04-01 00:09:00</td>\n",
       "      <td>5694.095</td>\n",
       "      <td>234.019</td>\n",
       "      <td>228.028</td>\n",
       "      <td>239.127</td>\n",
       "      <td>0.366</td>\n",
       "      <td>0.361</td>\n",
       "      <td>0.042</td>\n",
       "    </tr>\n",
       "    <tr>\n",
       "      <th>1</th>\n",
       "      <td>2023-04-01 00:19:00</td>\n",
       "      <td>5694.101</td>\n",
       "      <td>232.769</td>\n",
       "      <td>227.893</td>\n",
       "      <td>238.799</td>\n",
       "      <td>0.367</td>\n",
       "      <td>0.362</td>\n",
       "      <td>0.039</td>\n",
       "    </tr>\n",
       "    <tr>\n",
       "      <th>2</th>\n",
       "      <td>2023-04-01 00:30:00</td>\n",
       "      <td>5694.106</td>\n",
       "      <td>233.641</td>\n",
       "      <td>228.415</td>\n",
       "      <td>238.940</td>\n",
       "      <td>0.367</td>\n",
       "      <td>0.362</td>\n",
       "      <td>0.040</td>\n",
       "    </tr>\n",
       "    <tr>\n",
       "      <th>3</th>\n",
       "      <td>2023-04-01 00:40:00</td>\n",
       "      <td>5694.111</td>\n",
       "      <td>233.432</td>\n",
       "      <td>227.803</td>\n",
       "      <td>238.924</td>\n",
       "      <td>0.367</td>\n",
       "      <td>0.361</td>\n",
       "      <td>0.041</td>\n",
       "    </tr>\n",
       "    <tr>\n",
       "      <th>4</th>\n",
       "      <td>2023-04-01 00:50:00</td>\n",
       "      <td>5694.117</td>\n",
       "      <td>233.393</td>\n",
       "      <td>228.543</td>\n",
       "      <td>239.128</td>\n",
       "      <td>0.369</td>\n",
       "      <td>0.365</td>\n",
       "      <td>0.040</td>\n",
       "    </tr>\n",
       "    <tr>\n",
       "      <th>...</th>\n",
       "      <td>...</td>\n",
       "      <td>...</td>\n",
       "      <td>...</td>\n",
       "      <td>...</td>\n",
       "      <td>...</td>\n",
       "      <td>...</td>\n",
       "      <td>...</td>\n",
       "      <td>...</td>\n",
       "    </tr>\n",
       "    <tr>\n",
       "      <th>138</th>\n",
       "      <td>2023-04-01 23:10:00</td>\n",
       "      <td>5694.927</td>\n",
       "      <td>239.272</td>\n",
       "      <td>225.234</td>\n",
       "      <td>238.942</td>\n",
       "      <td>0.379</td>\n",
       "      <td>0.372</td>\n",
       "      <td>0.041</td>\n",
       "    </tr>\n",
       "    <tr>\n",
       "      <th>139</th>\n",
       "      <td>2023-04-01 23:20:00</td>\n",
       "      <td>5694.933</td>\n",
       "      <td>240.739</td>\n",
       "      <td>226.376</td>\n",
       "      <td>239.749</td>\n",
       "      <td>0.379</td>\n",
       "      <td>0.374</td>\n",
       "      <td>0.042</td>\n",
       "    </tr>\n",
       "    <tr>\n",
       "      <th>140</th>\n",
       "      <td>2023-04-01 23:30:00</td>\n",
       "      <td>5694.938</td>\n",
       "      <td>241.269</td>\n",
       "      <td>226.715</td>\n",
       "      <td>240.807</td>\n",
       "      <td>0.374</td>\n",
       "      <td>0.367</td>\n",
       "      <td>0.041</td>\n",
       "    </tr>\n",
       "    <tr>\n",
       "      <th>141</th>\n",
       "      <td>2023-04-01 23:40:00</td>\n",
       "      <td>5694.944</td>\n",
       "      <td>242.365</td>\n",
       "      <td>227.796</td>\n",
       "      <td>241.598</td>\n",
       "      <td>0.375</td>\n",
       "      <td>0.369</td>\n",
       "      <td>0.042</td>\n",
       "    </tr>\n",
       "    <tr>\n",
       "      <th>142</th>\n",
       "      <td>2023-04-01 23:50:00</td>\n",
       "      <td>5694.950</td>\n",
       "      <td>242.809</td>\n",
       "      <td>228.609</td>\n",
       "      <td>242.113</td>\n",
       "      <td>0.376</td>\n",
       "      <td>0.370</td>\n",
       "      <td>0.042</td>\n",
       "    </tr>\n",
       "  </tbody>\n",
       "</table>\n",
       "<p>143 rows × 8 columns</p>\n",
       "</div>"
      ],
      "text/plain": [
       "                   dtime   total_e       v1       v2       v3     a1     a2  \\\n",
       "0    2023-04-01 00:09:00  5694.095  234.019  228.028  239.127  0.366  0.361   \n",
       "1    2023-04-01 00:19:00  5694.101  232.769  227.893  238.799  0.367  0.362   \n",
       "2    2023-04-01 00:30:00  5694.106  233.641  228.415  238.940  0.367  0.362   \n",
       "3    2023-04-01 00:40:00  5694.111  233.432  227.803  238.924  0.367  0.361   \n",
       "4    2023-04-01 00:50:00  5694.117  233.393  228.543  239.128  0.369  0.365   \n",
       "..                   ...       ...      ...      ...      ...    ...    ...   \n",
       "138  2023-04-01 23:10:00  5694.927  239.272  225.234  238.942  0.379  0.372   \n",
       "139  2023-04-01 23:20:00  5694.933  240.739  226.376  239.749  0.379  0.374   \n",
       "140  2023-04-01 23:30:00  5694.938  241.269  226.715  240.807  0.374  0.367   \n",
       "141  2023-04-01 23:40:00  5694.944  242.365  227.796  241.598  0.375  0.369   \n",
       "142  2023-04-01 23:50:00  5694.950  242.809  228.609  242.113  0.376  0.370   \n",
       "\n",
       "        a3  \n",
       "0    0.042  \n",
       "1    0.039  \n",
       "2    0.040  \n",
       "3    0.041  \n",
       "4    0.040  \n",
       "..     ...  \n",
       "138  0.041  \n",
       "139  0.042  \n",
       "140  0.041  \n",
       "141  0.042  \n",
       "142  0.042  \n",
       "\n",
       "[143 rows x 8 columns]"
      ]
     },
     "execution_count": 3,
     "metadata": {},
     "output_type": "execute_result"
    }
   ],
   "source": [
    "ffn = base_path+'farm1_2023-04-01.csv'\n",
    "\n",
    "df = pd.read_csv(ffn)\n",
    "\n",
    "df"
   ]
  },
  {
   "cell_type": "markdown",
   "id": "69ba19a6-5655-4b90-a0e4-92edade18d2c",
   "metadata": {},
   "source": [
    "### 2.1> 來看一下用電趨勢"
   ]
  },
  {
   "cell_type": "code",
   "execution_count": 4,
   "id": "1f184c19-b354-411e-bcd8-b10110b3f643",
   "metadata": {},
   "outputs": [
    {
     "data": {
      "text/plain": [
       "<AxesSubplot:xlabel='dtime'>"
      ]
     },
     "execution_count": 4,
     "metadata": {},
     "output_type": "execute_result"
    },
    {
     "data": {
      "image/png": "[encoded data removed]",
      "text/plain": [
       "<Figure size 1080x360 with 1 Axes>"
      ]
     },
     "metadata": {
      "needs_background": "light"
     },
     "output_type": "display_data"
    }
   ],
   "source": [
    "df_day = df.pivot_table(index='dtime',values='total_e')\n",
    "df_day.plot(figsize=(15,5))"
   ]
  },
  {
   "cell_type": "code",
   "execution_count": 5,
   "id": "65157045-ed01-4637-9c66-d0a36f86add9",
   "metadata": {},
   "outputs": [
    {
     "data": {
      "text/plain": [
       "<AxesSubplot:xlabel='dtime'>"
      ]
     },
     "execution_count": 5,
     "metadata": {},
     "output_type": "execute_result"
    },
    {
     "data": {
      "image/png": "[encoded data removed]",
      "text/plain": [
       "<Figure size 1080x360 with 1 Axes>"
      ]
     },
     "metadata": {
      "needs_background": "light"
     },
     "output_type": "display_data"
    }
   ],
   "source": [
    "df_day = df.pivot_table(index='dtime',values='total_e')\n",
    "df_day.plot(figsize=(15,5), rot=90)"
   ]
  },
  {
   "cell_type": "markdown",
   "id": "9b75e160-85be-41fe-b533-7e2aa38c64f2",
   "metadata": {},
   "source": [
    "- 以小時 resample 再重新畫過"
   ]
  },
  {
   "cell_type": "code",
   "execution_count": 6,
   "id": "df7fbd57-745c-4ada-8a46-f15a649b2175",
   "metadata": {
    "tags": []
   },
   "outputs": [
    {
     "data": {
      "text/html": [
       "<div>\n",
       "<style scoped>\n",
       "    .dataframe tbody tr th:only-of-type {\n",
       "        vertical-align: middle;\n",
       "    }\n",
       "\n",
       "    .dataframe tbody tr th {\n",
       "        vertical-align: top;\n",
       "    }\n",
       "\n",
       "    .dataframe thead th {\n",
       "        text-align: right;\n",
       "    }\n",
       "</style>\n",
       "<table border=\"1\" class=\"dataframe\">\n",
       "  <thead>\n",
       "    <tr style=\"text-align: right;\">\n",
       "      <th></th>\n",
       "      <th>total_e</th>\n",
       "    </tr>\n",
       "    <tr>\n",
       "      <th>dtime</th>\n",
       "      <th></th>\n",
       "    </tr>\n",
       "  </thead>\n",
       "  <tbody>\n",
       "    <tr>\n",
       "      <th>2023-04-01 00:00:00</th>\n",
       "      <td>5694.117</td>\n",
       "    </tr>\n",
       "    <tr>\n",
       "      <th>2023-04-01 01:00:00</th>\n",
       "      <td>5694.150</td>\n",
       "    </tr>\n",
       "    <tr>\n",
       "      <th>2023-04-01 02:00:00</th>\n",
       "      <td>5694.183</td>\n",
       "    </tr>\n",
       "    <tr>\n",
       "      <th>2023-04-01 03:00:00</th>\n",
       "      <td>5694.216</td>\n",
       "    </tr>\n",
       "    <tr>\n",
       "      <th>2023-04-01 04:00:00</th>\n",
       "      <td>5694.250</td>\n",
       "    </tr>\n",
       "    <tr>\n",
       "      <th>2023-04-01 05:00:00</th>\n",
       "      <td>5694.283</td>\n",
       "    </tr>\n",
       "    <tr>\n",
       "      <th>2023-04-01 06:00:00</th>\n",
       "      <td>5694.315</td>\n",
       "    </tr>\n",
       "    <tr>\n",
       "      <th>2023-04-01 07:00:00</th>\n",
       "      <td>5694.348</td>\n",
       "    </tr>\n",
       "    <tr>\n",
       "      <th>2023-04-01 08:00:00</th>\n",
       "      <td>5694.381</td>\n",
       "    </tr>\n",
       "    <tr>\n",
       "      <th>2023-04-01 09:00:00</th>\n",
       "      <td>5694.416</td>\n",
       "    </tr>\n",
       "    <tr>\n",
       "      <th>2023-04-01 10:00:00</th>\n",
       "      <td>5694.443</td>\n",
       "    </tr>\n",
       "    <tr>\n",
       "      <th>2023-04-01 11:00:00</th>\n",
       "      <td>5694.483</td>\n",
       "    </tr>\n",
       "    <tr>\n",
       "      <th>2023-04-01 12:00:00</th>\n",
       "      <td>5694.518</td>\n",
       "    </tr>\n",
       "    <tr>\n",
       "      <th>2023-04-01 13:00:00</th>\n",
       "      <td>5694.609</td>\n",
       "    </tr>\n",
       "    <tr>\n",
       "      <th>2023-04-01 14:00:00</th>\n",
       "      <td>5694.644</td>\n",
       "    </tr>\n",
       "    <tr>\n",
       "      <th>2023-04-01 15:00:00</th>\n",
       "      <td>5694.678</td>\n",
       "    </tr>\n",
       "    <tr>\n",
       "      <th>2023-04-01 16:00:00</th>\n",
       "      <td>5694.711</td>\n",
       "    </tr>\n",
       "    <tr>\n",
       "      <th>2023-04-01 17:00:00</th>\n",
       "      <td>5694.745</td>\n",
       "    </tr>\n",
       "    <tr>\n",
       "      <th>2023-04-01 18:00:00</th>\n",
       "      <td>5694.779</td>\n",
       "    </tr>\n",
       "    <tr>\n",
       "      <th>2023-04-01 19:00:00</th>\n",
       "      <td>5694.813</td>\n",
       "    </tr>\n",
       "    <tr>\n",
       "      <th>2023-04-01 20:00:00</th>\n",
       "      <td>5694.847</td>\n",
       "    </tr>\n",
       "    <tr>\n",
       "      <th>2023-04-01 21:00:00</th>\n",
       "      <td>5694.881</td>\n",
       "    </tr>\n",
       "    <tr>\n",
       "      <th>2023-04-01 22:00:00</th>\n",
       "      <td>5694.916</td>\n",
       "    </tr>\n",
       "    <tr>\n",
       "      <th>2023-04-01 23:00:00</th>\n",
       "      <td>5694.950</td>\n",
       "    </tr>\n",
       "  </tbody>\n",
       "</table>\n",
       "</div>"
      ],
      "text/plain": [
       "                      total_e\n",
       "dtime                        \n",
       "2023-04-01 00:00:00  5694.117\n",
       "2023-04-01 01:00:00  5694.150\n",
       "2023-04-01 02:00:00  5694.183\n",
       "2023-04-01 03:00:00  5694.216\n",
       "2023-04-01 04:00:00  5694.250\n",
       "2023-04-01 05:00:00  5694.283\n",
       "2023-04-01 06:00:00  5694.315\n",
       "2023-04-01 07:00:00  5694.348\n",
       "2023-04-01 08:00:00  5694.381\n",
       "2023-04-01 09:00:00  5694.416\n",
       "2023-04-01 10:00:00  5694.443\n",
       "2023-04-01 11:00:00  5694.483\n",
       "2023-04-01 12:00:00  5694.518\n",
       "2023-04-01 13:00:00  5694.609\n",
       "2023-04-01 14:00:00  5694.644\n",
       "2023-04-01 15:00:00  5694.678\n",
       "2023-04-01 16:00:00  5694.711\n",
       "2023-04-01 17:00:00  5694.745\n",
       "2023-04-01 18:00:00  5694.779\n",
       "2023-04-01 19:00:00  5694.813\n",
       "2023-04-01 20:00:00  5694.847\n",
       "2023-04-01 21:00:00  5694.881\n",
       "2023-04-01 22:00:00  5694.916\n",
       "2023-04-01 23:00:00  5694.950"
      ]
     },
     "execution_count": 6,
     "metadata": {},
     "output_type": "execute_result"
    }
   ],
   "source": [
    "df_day = df.pivot_table(index='dtime',values='total_e')\n",
    "df_day.index= pd.to_datetime(df_day.index)\n",
    "df_day.resample('H').max()"
   ]
  },
  {
   "cell_type": "code",
   "execution_count": 7,
   "id": "77cb47b8-183d-4da9-b65d-d5c1cd5cf48f",
   "metadata": {},
   "outputs": [
    {
     "data": {
      "text/plain": [
       "<AxesSubplot:xlabel='dtime'>"
      ]
     },
     "execution_count": 7,
     "metadata": {},
     "output_type": "execute_result"
    },
    {
     "data": {
      "image/png": "[encoded data removed]",
      "text/plain": [
       "<Figure size 1080x360 with 1 Axes>"
      ]
     },
     "metadata": {
      "needs_background": "light"
     },
     "output_type": "display_data"
    }
   ],
   "source": [
    "df_day = df.pivot_table(index='dtime',values='total_e')\n",
    "df_day.index= pd.to_datetime(df_day.index)\n",
    "df_day.resample('H').max().plot(figsize=(15,5))\n"
   ]
  },
  {
   "cell_type": "code",
   "execution_count": 8,
   "id": "29e11155-a358-4c94-aedd-29ec0ee127f0",
   "metadata": {},
   "outputs": [],
   "source": [
    "### 2.2> 需要美化一下時，引入seaborn"
   ]
  },
  {
   "cell_type": "code",
   "execution_count": 9,
   "id": "7afe282a-6d63-4689-858d-33f149686df9",
   "metadata": {},
   "outputs": [],
   "source": [
    "import seaborn as sns; sns.set()"
   ]
  },
  {
   "cell_type": "code",
   "execution_count": 10,
   "id": "c0061ca9-8127-43e6-923c-e8de7bd43bdb",
   "metadata": {},
   "outputs": [
    {
     "data": {
      "text/plain": [
       "<AxesSubplot:xlabel='dtime'>"
      ]
     },
     "execution_count": 10,
     "metadata": {},
     "output_type": "execute_result"
    },
    {
     "data": {
      "image/png": "[encoded data removed]",
      "text/plain": [
       "<Figure size 1080x360 with 1 Axes>"
      ]
     },
     "metadata": {},
     "output_type": "display_data"
    }
   ],
   "source": [
    "df_day = df.pivot_table(index='dtime',values='total_e')\n",
    "df_day.index= pd.to_datetime(df_day.index)\n",
    "df_day.resample('H').max().plot(figsize=(15,5))\n"
   ]
  },
  {
   "cell_type": "markdown",
   "id": "c5c7dd3f-854c-4ab9-9bb8-0556d94cdbc5",
   "metadata": {},
   "source": [
    "### 使用差值來畫圖，得知每一段時間用多少電量"
   ]
  },
  {
   "cell_type": "code",
   "execution_count": 11,
   "id": "2989b3da-8725-4633-a8a0-d3206ec90949",
   "metadata": {
    "tags": []
   },
   "outputs": [
    {
     "data": {
      "text/html": [
       "<div>\n",
       "<style scoped>\n",
       "    .dataframe tbody tr th:only-of-type {\n",
       "        vertical-align: middle;\n",
       "    }\n",
       "\n",
       "    .dataframe tbody tr th {\n",
       "        vertical-align: top;\n",
       "    }\n",
       "\n",
       "    .dataframe thead th {\n",
       "        text-align: right;\n",
       "    }\n",
       "</style>\n",
       "<table border=\"1\" class=\"dataframe\">\n",
       "  <thead>\n",
       "    <tr style=\"text-align: right;\">\n",
       "      <th></th>\n",
       "      <th>total_e</th>\n",
       "    </tr>\n",
       "    <tr>\n",
       "      <th>dtime</th>\n",
       "      <th></th>\n",
       "    </tr>\n",
       "  </thead>\n",
       "  <tbody>\n",
       "    <tr>\n",
       "      <th>2023-04-01 00:00:00</th>\n",
       "      <td>NaN</td>\n",
       "    </tr>\n",
       "    <tr>\n",
       "      <th>2023-04-01 01:00:00</th>\n",
       "      <td>0.033</td>\n",
       "    </tr>\n",
       "    <tr>\n",
       "      <th>2023-04-01 02:00:00</th>\n",
       "      <td>0.033</td>\n",
       "    </tr>\n",
       "    <tr>\n",
       "      <th>2023-04-01 03:00:00</th>\n",
       "      <td>0.033</td>\n",
       "    </tr>\n",
       "    <tr>\n",
       "      <th>2023-04-01 04:00:00</th>\n",
       "      <td>0.034</td>\n",
       "    </tr>\n",
       "    <tr>\n",
       "      <th>2023-04-01 05:00:00</th>\n",
       "      <td>0.033</td>\n",
       "    </tr>\n",
       "    <tr>\n",
       "      <th>2023-04-01 06:00:00</th>\n",
       "      <td>0.032</td>\n",
       "    </tr>\n",
       "    <tr>\n",
       "      <th>2023-04-01 07:00:00</th>\n",
       "      <td>0.033</td>\n",
       "    </tr>\n",
       "    <tr>\n",
       "      <th>2023-04-01 08:00:00</th>\n",
       "      <td>0.033</td>\n",
       "    </tr>\n",
       "    <tr>\n",
       "      <th>2023-04-01 09:00:00</th>\n",
       "      <td>0.035</td>\n",
       "    </tr>\n",
       "    <tr>\n",
       "      <th>2023-04-01 10:00:00</th>\n",
       "      <td>0.027</td>\n",
       "    </tr>\n",
       "    <tr>\n",
       "      <th>2023-04-01 11:00:00</th>\n",
       "      <td>0.040</td>\n",
       "    </tr>\n",
       "    <tr>\n",
       "      <th>2023-04-01 12:00:00</th>\n",
       "      <td>0.035</td>\n",
       "    </tr>\n",
       "    <tr>\n",
       "      <th>2023-04-01 13:00:00</th>\n",
       "      <td>0.091</td>\n",
       "    </tr>\n",
       "    <tr>\n",
       "      <th>2023-04-01 14:00:00</th>\n",
       "      <td>0.035</td>\n",
       "    </tr>\n",
       "    <tr>\n",
       "      <th>2023-04-01 15:00:00</th>\n",
       "      <td>0.034</td>\n",
       "    </tr>\n",
       "    <tr>\n",
       "      <th>2023-04-01 16:00:00</th>\n",
       "      <td>0.033</td>\n",
       "    </tr>\n",
       "    <tr>\n",
       "      <th>2023-04-01 17:00:00</th>\n",
       "      <td>0.034</td>\n",
       "    </tr>\n",
       "    <tr>\n",
       "      <th>2023-04-01 18:00:00</th>\n",
       "      <td>0.034</td>\n",
       "    </tr>\n",
       "    <tr>\n",
       "      <th>2023-04-01 19:00:00</th>\n",
       "      <td>0.034</td>\n",
       "    </tr>\n",
       "    <tr>\n",
       "      <th>2023-04-01 20:00:00</th>\n",
       "      <td>0.034</td>\n",
       "    </tr>\n",
       "    <tr>\n",
       "      <th>2023-04-01 21:00:00</th>\n",
       "      <td>0.034</td>\n",
       "    </tr>\n",
       "    <tr>\n",
       "      <th>2023-04-01 22:00:00</th>\n",
       "      <td>0.035</td>\n",
       "    </tr>\n",
       "    <tr>\n",
       "      <th>2023-04-01 23:00:00</th>\n",
       "      <td>0.034</td>\n",
       "    </tr>\n",
       "  </tbody>\n",
       "</table>\n",
       "</div>"
      ],
      "text/plain": [
       "                     total_e\n",
       "dtime                       \n",
       "2023-04-01 00:00:00      NaN\n",
       "2023-04-01 01:00:00    0.033\n",
       "2023-04-01 02:00:00    0.033\n",
       "2023-04-01 03:00:00    0.033\n",
       "2023-04-01 04:00:00    0.034\n",
       "2023-04-01 05:00:00    0.033\n",
       "2023-04-01 06:00:00    0.032\n",
       "2023-04-01 07:00:00    0.033\n",
       "2023-04-01 08:00:00    0.033\n",
       "2023-04-01 09:00:00    0.035\n",
       "2023-04-01 10:00:00    0.027\n",
       "2023-04-01 11:00:00    0.040\n",
       "2023-04-01 12:00:00    0.035\n",
       "2023-04-01 13:00:00    0.091\n",
       "2023-04-01 14:00:00    0.035\n",
       "2023-04-01 15:00:00    0.034\n",
       "2023-04-01 16:00:00    0.033\n",
       "2023-04-01 17:00:00    0.034\n",
       "2023-04-01 18:00:00    0.034\n",
       "2023-04-01 19:00:00    0.034\n",
       "2023-04-01 20:00:00    0.034\n",
       "2023-04-01 21:00:00    0.034\n",
       "2023-04-01 22:00:00    0.035\n",
       "2023-04-01 23:00:00    0.034"
      ]
     },
     "execution_count": 11,
     "metadata": {},
     "output_type": "execute_result"
    }
   ],
   "source": [
    "df_day = df.pivot_table(index='dtime',values='total_e')\n",
    "df_day.index= pd.to_datetime(df_day.index)\n",
    "df_day_24h = df_day.resample('H').max()\n",
    "df_day_24h = df_day_24h.rolling(window=2).apply(lambda df_day: df_day.iloc[1] - df_day.iloc[0])\n",
    "df_day_24h"
   ]
  },
  {
   "cell_type": "code",
   "execution_count": 12,
   "id": "44799d9f-c292-49a8-8ee0-be8473e952a8",
   "metadata": {},
   "outputs": [
    {
     "data": {
      "text/plain": [
       "<AxesSubplot:xlabel='dtime'>"
      ]
     },
     "execution_count": 12,
     "metadata": {},
     "output_type": "execute_result"
    },
    {
     "data": {
      "image/png": "[encoded data removed]",
      "text/plain": [
       "<Figure size 1080x360 with 1 Axes>"
      ]
     },
     "metadata": {},
     "output_type": "display_data"
    }
   ],
   "source": [
    "df_day_24h.plot(figsize=(15,5))"
   ]
  },
  {
   "cell_type": "markdown",
   "id": "5257158e-745a-4c21-9ccb-2476eef75e0c",
   "metadata": {},
   "source": [
    "## 改用github上的資料，比較方便colab操作"
   ]
  },
  {
   "cell_type": "code",
   "execution_count": 13,
   "id": "e681faa3-6cad-4344-9479-ad2401cae7d2",
   "metadata": {},
   "outputs": [
    {
     "data": {
      "image/png": "[encoded data removed]",
      "text/plain": [
       "<Figure size 1080x360 with 1 Axes>"
      ]
     },
     "metadata": {},
     "output_type": "display_data"
    }
   ],
   "source": [
    "import pandas as pd\n",
    "import matplotlib.pyplot as plt\n",
    "\n",
    "# 從URL讀取CSV文件\n",
    "url = 'https://raw.githubusercontent.com/maloyang/hub202306-iot/main/pm_data/farm1_2023-04-01.csv'\n",
    "df = pd.read_csv(url)\n",
    "\n",
    "# 將時間欄位轉換為日期時間格式\n",
    "df['dtime'] = pd.to_datetime(df['dtime'])\n",
    "\n",
    "# 以每小時為間隔重取樣\n",
    "df_resampled = df.set_index('dtime').resample('1H').last().reset_index()\n",
    "\n",
    "# 計算每筆資料與前一筆資料的差值\n",
    "df_resampled['total_e_diff'] = df_resampled['total_e'].diff()\n",
    "\n",
    "# 輸出處理後的資料\n",
    "#print(df_resampled.head())\n",
    "\n",
    "# 設定圖的大小\n",
    "plt.figure(figsize=(15, 5))\n",
    "\n",
    "# 繪製線圖\n",
    "plt.plot(df_resampled['dtime'], df_resampled['total_e_diff'])\n",
    "plt.xlabel('Time')\n",
    "plt.ylabel('Total Energy Difference')\n",
    "plt.title('Total Energy Difference over Time')\n",
    "plt.xticks(rotation=45)  # 將x軸刻度旋轉以避免重疊\n",
    "plt.show()\n"
   ]
  },
  {
   "cell_type": "code",
   "execution_count": null,
   "id": "7efd1b54-1eb7-4c98-801b-bc36580fa6ed",
   "metadata": {},
   "outputs": [],
   "source": []
  }
 ],
 "metadata": {
  "kernelspec": {
   "display_name": "Python 3 (ipykernel)",
   "language": "python",
   "name": "python3"
  },
  "language_info": {
   "codemirror_mode": {
    "name": "ipython",
    "version": 3
   },
   "file_extension": ".py",
   "mimetype": "text/x-python",
   "name": "python",
   "nbconvert_exporter": "python",
   "pygments_lexer": "ipython3",
   "version": "3.9.7"
  }
 },
 "nbformat": 4,
 "nbformat_minor": 5
}
